{
 "cells": [
  {
   "cell_type": "code",
   "execution_count": 6,
   "metadata": {},
   "outputs": [
    {
     "name": "stdout",
     "output_type": "stream",
     "text": [
      "The sql extension is already loaded. To reload it, use:\n",
      "  %reload_ext sql\n"
     ]
    }
   ],
   "source": [
    "# Load duckdb, which lets us efficiently load large files\n",
    "import duckdb\n",
    "\n",
    "# Load pandas, which lets us manipulate dataframes\n",
    "import pandas as pd\n",
    "\n",
    "# Import jupysql Jupyter extension to create SQL cells\n",
    "%load_ext sql\n",
    "\n",
    "# Set configrations on jupysql to directly output data to Pandas and to simplify the output that is printed to the notebook.\n",
    "%config SqlMagic.autopandas = True\n",
    "\n",
    "%config SqlMagic.feedback = False\n",
    "%config SqlMagic.displaycon = False\n",
    "\n",
    "# Connect jupysql to DuckDB using a SQLAlchemy-style connection string. Either connect to an in memory DuckDB, or a file backed db.\n",
    "%sql duckdb:///:memory:"
   ]
  },
  {
   "cell_type": "code",
   "execution_count": 7,
   "metadata": {},
   "outputs": [
    {
     "data": {
      "text/html": [
       "<div>\n",
       "<style scoped>\n",
       "    .dataframe tbody tr th:only-of-type {\n",
       "        vertical-align: middle;\n",
       "    }\n",
       "\n",
       "    .dataframe tbody tr th {\n",
       "        vertical-align: top;\n",
       "    }\n",
       "\n",
       "    .dataframe thead th {\n",
       "        text-align: right;\n",
       "    }\n",
       "</style>\n",
       "<table border=\"1\" class=\"dataframe\">\n",
       "  <thead>\n",
       "    <tr style=\"text-align: right;\">\n",
       "      <th></th>\n",
       "      <th>PERSON_ID</th>\n",
       "      <th>PERSON_WGHT</th>\n",
       "      <th>FACILITY_ID</th>\n",
       "      <th>CLM_CNTL_NUM</th>\n",
       "      <th>AT_SPCLTY</th>\n",
       "      <th>SRVC_BEG_DATE</th>\n",
       "      <th>SRVC_END_DATE</th>\n",
       "      <th>LOS</th>\n",
       "      <th>ADMSN_TYPE</th>\n",
       "      <th>TOB_CD</th>\n",
       "      <th>...</th>\n",
       "      <th>CAST(CPT_PRCDR_CD_28 AS VARCHAR)</th>\n",
       "      <th>CAST(CPT_PRCDR_CD_29 AS VARCHAR)</th>\n",
       "      <th>CAST(CPT_PRCDR_CD_30 AS VARCHAR)</th>\n",
       "      <th>CAST(CPT_PRCDR_CD_31 AS VARCHAR)</th>\n",
       "      <th>CAST(CPT_PRCDR_CD_32 AS VARCHAR)</th>\n",
       "      <th>CAST(CPT_PRCDR_CD_33 AS VARCHAR)</th>\n",
       "      <th>CAST(CPT_PRCDR_CD_34 AS VARCHAR)</th>\n",
       "      <th>CPT_PRCDR_CD_35</th>\n",
       "      <th>PLAN_PMT_AMT</th>\n",
       "      <th>TOT_CHRG_AMT</th>\n",
       "    </tr>\n",
       "  </thead>\n",
       "  <tbody>\n",
       "    <tr>\n",
       "      <th>0</th>\n",
       "      <td>106555013</td>\n",
       "      <td>15.35</td>\n",
       "      <td>NaN</td>\n",
       "      <td>162348524.0</td>\n",
       "      <td>A0</td>\n",
       "      <td>2016-11-03</td>\n",
       "      <td>2016-11-03</td>\n",
       "      <td>1</td>\n",
       "      <td>None</td>\n",
       "      <td>013</td>\n",
       "      <td>...</td>\n",
       "      <td>None</td>\n",
       "      <td>None</td>\n",
       "      <td>None</td>\n",
       "      <td>None</td>\n",
       "      <td>None</td>\n",
       "      <td>None</td>\n",
       "      <td>None</td>\n",
       "      <td>None</td>\n",
       "      <td>50.270000</td>\n",
       "      <td>NaN</td>\n",
       "    </tr>\n",
       "    <tr>\n",
       "      <th>1</th>\n",
       "      <td>101322073</td>\n",
       "      <td>14.15</td>\n",
       "      <td>130002074.0</td>\n",
       "      <td>165390008.0</td>\n",
       "      <td>A3</td>\n",
       "      <td>2016-12-06</td>\n",
       "      <td>2016-12-06</td>\n",
       "      <td>1</td>\n",
       "      <td>None</td>\n",
       "      <td>013</td>\n",
       "      <td>...</td>\n",
       "      <td>None</td>\n",
       "      <td>None</td>\n",
       "      <td>None</td>\n",
       "      <td>None</td>\n",
       "      <td>None</td>\n",
       "      <td>None</td>\n",
       "      <td>None</td>\n",
       "      <td>None</td>\n",
       "      <td>35.080002</td>\n",
       "      <td>NaN</td>\n",
       "    </tr>\n",
       "    <tr>\n",
       "      <th>2</th>\n",
       "      <td>107712347</td>\n",
       "      <td>20.29</td>\n",
       "      <td>130020567.0</td>\n",
       "      <td>166984365.0</td>\n",
       "      <td>A0</td>\n",
       "      <td>2016-01-13</td>\n",
       "      <td>2016-01-13</td>\n",
       "      <td>1</td>\n",
       "      <td>None</td>\n",
       "      <td>013</td>\n",
       "      <td>...</td>\n",
       "      <td>None</td>\n",
       "      <td>None</td>\n",
       "      <td>None</td>\n",
       "      <td>None</td>\n",
       "      <td>None</td>\n",
       "      <td>None</td>\n",
       "      <td>None</td>\n",
       "      <td>None</td>\n",
       "      <td>22.100000</td>\n",
       "      <td>NaN</td>\n",
       "    </tr>\n",
       "    <tr>\n",
       "      <th>3</th>\n",
       "      <td>103556891</td>\n",
       "      <td>24.28</td>\n",
       "      <td>130021019.0</td>\n",
       "      <td>160229186.0</td>\n",
       "      <td>A0</td>\n",
       "      <td>2016-11-17</td>\n",
       "      <td>2016-11-17</td>\n",
       "      <td>1</td>\n",
       "      <td>None</td>\n",
       "      <td>013</td>\n",
       "      <td>...</td>\n",
       "      <td>None</td>\n",
       "      <td>None</td>\n",
       "      <td>None</td>\n",
       "      <td>None</td>\n",
       "      <td>None</td>\n",
       "      <td>None</td>\n",
       "      <td>None</td>\n",
       "      <td>None</td>\n",
       "      <td>244.520004</td>\n",
       "      <td>NaN</td>\n",
       "    </tr>\n",
       "    <tr>\n",
       "      <th>4</th>\n",
       "      <td>100690283</td>\n",
       "      <td>19.03</td>\n",
       "      <td>130005583.0</td>\n",
       "      <td>163555025.0</td>\n",
       "      <td>A0</td>\n",
       "      <td>2016-09-19</td>\n",
       "      <td>2016-09-19</td>\n",
       "      <td>1</td>\n",
       "      <td>None</td>\n",
       "      <td>013</td>\n",
       "      <td>...</td>\n",
       "      <td>None</td>\n",
       "      <td>None</td>\n",
       "      <td>None</td>\n",
       "      <td>None</td>\n",
       "      <td>None</td>\n",
       "      <td>None</td>\n",
       "      <td>None</td>\n",
       "      <td>None</td>\n",
       "      <td>95.029999</td>\n",
       "      <td>NaN</td>\n",
       "    </tr>\n",
       "    <tr>\n",
       "      <th>5</th>\n",
       "      <td>100142835</td>\n",
       "      <td>25.20</td>\n",
       "      <td>130016338.0</td>\n",
       "      <td>164945423.0</td>\n",
       "      <td>99</td>\n",
       "      <td>2016-03-25</td>\n",
       "      <td>2016-03-25</td>\n",
       "      <td>1</td>\n",
       "      <td>None</td>\n",
       "      <td>013</td>\n",
       "      <td>...</td>\n",
       "      <td>None</td>\n",
       "      <td>None</td>\n",
       "      <td>None</td>\n",
       "      <td>None</td>\n",
       "      <td>None</td>\n",
       "      <td>None</td>\n",
       "      <td>None</td>\n",
       "      <td>None</td>\n",
       "      <td>146.619995</td>\n",
       "      <td>NaN</td>\n",
       "    </tr>\n",
       "    <tr>\n",
       "      <th>6</th>\n",
       "      <td>105694677</td>\n",
       "      <td>24.02</td>\n",
       "      <td>130013147.0</td>\n",
       "      <td>166224246.0</td>\n",
       "      <td>A0</td>\n",
       "      <td>2016-12-05</td>\n",
       "      <td>2016-12-05</td>\n",
       "      <td>1</td>\n",
       "      <td>None</td>\n",
       "      <td>013</td>\n",
       "      <td>...</td>\n",
       "      <td>None</td>\n",
       "      <td>None</td>\n",
       "      <td>None</td>\n",
       "      <td>None</td>\n",
       "      <td>None</td>\n",
       "      <td>None</td>\n",
       "      <td>None</td>\n",
       "      <td>None</td>\n",
       "      <td>195.940002</td>\n",
       "      <td>NaN</td>\n",
       "    </tr>\n",
       "    <tr>\n",
       "      <th>7</th>\n",
       "      <td>107129256</td>\n",
       "      <td>21.67</td>\n",
       "      <td>NaN</td>\n",
       "      <td>161621816.0</td>\n",
       "      <td>99</td>\n",
       "      <td>2016-10-07</td>\n",
       "      <td>2016-10-07</td>\n",
       "      <td>1</td>\n",
       "      <td>None</td>\n",
       "      <td>013</td>\n",
       "      <td>...</td>\n",
       "      <td>None</td>\n",
       "      <td>None</td>\n",
       "      <td>None</td>\n",
       "      <td>None</td>\n",
       "      <td>None</td>\n",
       "      <td>None</td>\n",
       "      <td>None</td>\n",
       "      <td>None</td>\n",
       "      <td>49.439999</td>\n",
       "      <td>NaN</td>\n",
       "    </tr>\n",
       "    <tr>\n",
       "      <th>8</th>\n",
       "      <td>109445091</td>\n",
       "      <td>33.76</td>\n",
       "      <td>130018705.0</td>\n",
       "      <td>164473414.0</td>\n",
       "      <td>A0</td>\n",
       "      <td>2016-07-28</td>\n",
       "      <td>2016-07-28</td>\n",
       "      <td>1</td>\n",
       "      <td>None</td>\n",
       "      <td>013</td>\n",
       "      <td>...</td>\n",
       "      <td>None</td>\n",
       "      <td>None</td>\n",
       "      <td>None</td>\n",
       "      <td>None</td>\n",
       "      <td>None</td>\n",
       "      <td>None</td>\n",
       "      <td>None</td>\n",
       "      <td>None</td>\n",
       "      <td>31.360001</td>\n",
       "      <td>NaN</td>\n",
       "    </tr>\n",
       "    <tr>\n",
       "      <th>9</th>\n",
       "      <td>103781315</td>\n",
       "      <td>22.37</td>\n",
       "      <td>NaN</td>\n",
       "      <td>160051590.0</td>\n",
       "      <td>87</td>\n",
       "      <td>2016-03-03</td>\n",
       "      <td>2016-03-03</td>\n",
       "      <td>1</td>\n",
       "      <td>None</td>\n",
       "      <td>013</td>\n",
       "      <td>...</td>\n",
       "      <td>None</td>\n",
       "      <td>None</td>\n",
       "      <td>None</td>\n",
       "      <td>None</td>\n",
       "      <td>None</td>\n",
       "      <td>None</td>\n",
       "      <td>None</td>\n",
       "      <td>None</td>\n",
       "      <td>305.570007</td>\n",
       "      <td>NaN</td>\n",
       "    </tr>\n",
       "  </tbody>\n",
       "</table>\n",
       "<p>10 rows × 101 columns</p>\n",
       "</div>"
      ],
      "text/plain": [
       "   PERSON_ID  PERSON_WGHT  FACILITY_ID  CLM_CNTL_NUM AT_SPCLTY SRVC_BEG_DATE  \\\n",
       "0  106555013        15.35          NaN   162348524.0        A0    2016-11-03   \n",
       "1  101322073        14.15  130002074.0   165390008.0        A3    2016-12-06   \n",
       "2  107712347        20.29  130020567.0   166984365.0        A0    2016-01-13   \n",
       "3  103556891        24.28  130021019.0   160229186.0        A0    2016-11-17   \n",
       "4  100690283        19.03  130005583.0   163555025.0        A0    2016-09-19   \n",
       "5  100142835        25.20  130016338.0   164945423.0        99    2016-03-25   \n",
       "6  105694677        24.02  130013147.0   166224246.0        A0    2016-12-05   \n",
       "7  107129256        21.67          NaN   161621816.0        99    2016-10-07   \n",
       "8  109445091        33.76  130018705.0   164473414.0        A0    2016-07-28   \n",
       "9  103781315        22.37          NaN   160051590.0        87    2016-03-03   \n",
       "\n",
       "  SRVC_END_DATE  LOS ADMSN_TYPE TOB_CD  ... CAST(CPT_PRCDR_CD_28 AS VARCHAR)  \\\n",
       "0    2016-11-03    1       None    013  ...                             None   \n",
       "1    2016-12-06    1       None    013  ...                             None   \n",
       "2    2016-01-13    1       None    013  ...                             None   \n",
       "3    2016-11-17    1       None    013  ...                             None   \n",
       "4    2016-09-19    1       None    013  ...                             None   \n",
       "5    2016-03-25    1       None    013  ...                             None   \n",
       "6    2016-12-05    1       None    013  ...                             None   \n",
       "7    2016-10-07    1       None    013  ...                             None   \n",
       "8    2016-07-28    1       None    013  ...                             None   \n",
       "9    2016-03-03    1       None    013  ...                             None   \n",
       "\n",
       "  CAST(CPT_PRCDR_CD_29 AS VARCHAR) CAST(CPT_PRCDR_CD_30 AS VARCHAR)  \\\n",
       "0                             None                             None   \n",
       "1                             None                             None   \n",
       "2                             None                             None   \n",
       "3                             None                             None   \n",
       "4                             None                             None   \n",
       "5                             None                             None   \n",
       "6                             None                             None   \n",
       "7                             None                             None   \n",
       "8                             None                             None   \n",
       "9                             None                             None   \n",
       "\n",
       "  CAST(CPT_PRCDR_CD_31 AS VARCHAR) CAST(CPT_PRCDR_CD_32 AS VARCHAR)  \\\n",
       "0                             None                             None   \n",
       "1                             None                             None   \n",
       "2                             None                             None   \n",
       "3                             None                             None   \n",
       "4                             None                             None   \n",
       "5                             None                             None   \n",
       "6                             None                             None   \n",
       "7                             None                             None   \n",
       "8                             None                             None   \n",
       "9                             None                             None   \n",
       "\n",
       "  CAST(CPT_PRCDR_CD_33 AS VARCHAR) CAST(CPT_PRCDR_CD_34 AS VARCHAR)  \\\n",
       "0                             None                             None   \n",
       "1                             None                             None   \n",
       "2                             None                             None   \n",
       "3                             None                             None   \n",
       "4                             None                             None   \n",
       "5                             None                             None   \n",
       "6                             None                             None   \n",
       "7                             None                             None   \n",
       "8                             None                             None   \n",
       "9                             None                             None   \n",
       "\n",
       "  CPT_PRCDR_CD_35 PLAN_PMT_AMT TOT_CHRG_AMT  \n",
       "0            None    50.270000          NaN  \n",
       "1            None    35.080002          NaN  \n",
       "2            None    22.100000          NaN  \n",
       "3            None   244.520004          NaN  \n",
       "4            None    95.029999          NaN  \n",
       "5            None   146.619995          NaN  \n",
       "6            None   195.940002          NaN  \n",
       "7            None    49.439999          NaN  \n",
       "8            None    31.360001          NaN  \n",
       "9            None   305.570007          NaN  \n",
       "\n",
       "[10 rows x 101 columns]"
      ]
     },
     "execution_count": 7,
     "metadata": {},
     "output_type": "execute_result"
    }
   ],
   "source": [
    "%%sql \n",
    "\n",
    "SELECT * FROM '~/data/ahrq.gov/syhdr_commercial_outpatient_2016.parquet' LIMIT 10;"
   ]
  },
  {
   "cell_type": "code",
   "execution_count": 52,
   "metadata": {},
   "outputs": [],
   "source": [
    "import pandas as pd\n",
    "import numpy as np\n",
    "from scipy.sparse import csr_matrix, save_npz\n"
   ]
  },
  {
   "cell_type": "code",
   "execution_count": 53,
   "metadata": {},
   "outputs": [],
   "source": [
    "\n",
    "# Read the parquet file\n",
    "df = pd.read_parquet('~/data/ahrq.gov/syhdr_commercial_outpatient_2016.parquet')"
   ]
  },
  {
   "cell_type": "code",
   "execution_count": 54,
   "metadata": {},
   "outputs": [],
   "source": [
    "\n",
    "# Select CPT procedure code columns\n",
    "cpt_columns = [col for col in df.columns if col.startswith('CAST(CPT_PRCDR_CD_')]\n"
   ]
  },
  {
   "cell_type": "code",
   "execution_count": 55,
   "metadata": {},
   "outputs": [
    {
     "data": {
      "text/plain": [
       "['CAST(CPT_PRCDR_CD_2 AS VARCHAR)',\n",
       " 'CAST(CPT_PRCDR_CD_4 AS VARCHAR)',\n",
       " 'CAST(CPT_PRCDR_CD_5 AS VARCHAR)',\n",
       " 'CAST(CPT_PRCDR_CD_6 AS VARCHAR)',\n",
       " 'CAST(CPT_PRCDR_CD_7 AS VARCHAR)',\n",
       " 'CAST(CPT_PRCDR_CD_8 AS VARCHAR)',\n",
       " 'CAST(CPT_PRCDR_CD_9 AS VARCHAR)',\n",
       " 'CAST(CPT_PRCDR_CD_10 AS VARCHAR)',\n",
       " 'CAST(CPT_PRCDR_CD_11 AS VARCHAR)',\n",
       " 'CAST(CPT_PRCDR_CD_12 AS VARCHAR)',\n",
       " 'CAST(CPT_PRCDR_CD_13 AS VARCHAR)',\n",
       " 'CAST(CPT_PRCDR_CD_14 AS VARCHAR)',\n",
       " 'CAST(CPT_PRCDR_CD_15 AS VARCHAR)',\n",
       " 'CAST(CPT_PRCDR_CD_16 AS VARCHAR)',\n",
       " 'CAST(CPT_PRCDR_CD_17 AS VARCHAR)',\n",
       " 'CAST(CPT_PRCDR_CD_18 AS VARCHAR)',\n",
       " 'CAST(CPT_PRCDR_CD_19 AS VARCHAR)',\n",
       " 'CAST(CPT_PRCDR_CD_20 AS VARCHAR)',\n",
       " 'CAST(CPT_PRCDR_CD_21 AS VARCHAR)',\n",
       " 'CAST(CPT_PRCDR_CD_22 AS VARCHAR)',\n",
       " 'CAST(CPT_PRCDR_CD_23 AS VARCHAR)',\n",
       " 'CAST(CPT_PRCDR_CD_24 AS VARCHAR)',\n",
       " 'CAST(CPT_PRCDR_CD_25 AS VARCHAR)',\n",
       " 'CAST(CPT_PRCDR_CD_26 AS VARCHAR)',\n",
       " 'CAST(CPT_PRCDR_CD_27 AS VARCHAR)',\n",
       " 'CAST(CPT_PRCDR_CD_28 AS VARCHAR)',\n",
       " 'CAST(CPT_PRCDR_CD_29 AS VARCHAR)',\n",
       " 'CAST(CPT_PRCDR_CD_30 AS VARCHAR)',\n",
       " 'CAST(CPT_PRCDR_CD_31 AS VARCHAR)',\n",
       " 'CAST(CPT_PRCDR_CD_32 AS VARCHAR)',\n",
       " 'CAST(CPT_PRCDR_CD_33 AS VARCHAR)',\n",
       " 'CAST(CPT_PRCDR_CD_34 AS VARCHAR)']"
      ]
     },
     "execution_count": 55,
     "metadata": {},
     "output_type": "execute_result"
    }
   ],
   "source": [
    "cpt_columns"
   ]
  },
  {
   "cell_type": "code",
   "execution_count": 56,
   "metadata": {},
   "outputs": [],
   "source": [
    "\n",
    "# Melt the dataframe to create a long format\n",
    "melted_df = df.melt(id_vars=['CLM_CNTL_NUM'], value_vars=cpt_columns, var_name='CPT_Column', value_name='CPT_Code')\n",
    "\n",
    "# Remove rows with null or empty CPT codes\n",
    "melted_df = melted_df[melted_df['CPT_Code'].notna() & (melted_df['CPT_Code'] != '')]\n",
    "\n",
    "# Create a unique identifier for each claim\n",
    "melted_df['claim_id'] = melted_df['CLM_CNTL_NUM'].astype('category').cat.codes\n",
    "\n",
    "# Create a unique identifier for each CPT code\n",
    "melted_df['cpt_id'] = melted_df['CPT_Code'].astype('category').cat.codes\n"
   ]
  },
  {
   "cell_type": "code",
   "execution_count": 57,
   "metadata": {},
   "outputs": [
    {
     "data": {
      "text/html": [
       "<div>\n",
       "<style scoped>\n",
       "    .dataframe tbody tr th:only-of-type {\n",
       "        vertical-align: middle;\n",
       "    }\n",
       "\n",
       "    .dataframe tbody tr th {\n",
       "        vertical-align: top;\n",
       "    }\n",
       "\n",
       "    .dataframe thead th {\n",
       "        text-align: right;\n",
       "    }\n",
       "</style>\n",
       "<table border=\"1\" class=\"dataframe\">\n",
       "  <thead>\n",
       "    <tr style=\"text-align: right;\">\n",
       "      <th></th>\n",
       "      <th>CLM_CNTL_NUM</th>\n",
       "      <th>CPT_Column</th>\n",
       "      <th>CPT_Code</th>\n",
       "      <th>claim_id</th>\n",
       "      <th>cpt_id</th>\n",
       "    </tr>\n",
       "  </thead>\n",
       "  <tbody>\n",
       "    <tr>\n",
       "      <th>2</th>\n",
       "      <td>166984365.000</td>\n",
       "      <td>CAST(CPT_PRCDR_CD_2 AS VARCHAR)</td>\n",
       "      <td>80053</td>\n",
       "      <td>4489445</td>\n",
       "      <td>4765</td>\n",
       "    </tr>\n",
       "    <tr>\n",
       "      <th>6</th>\n",
       "      <td>166224246.000</td>\n",
       "      <td>CAST(CPT_PRCDR_CD_2 AS VARCHAR)</td>\n",
       "      <td>G0202</td>\n",
       "      <td>4001174</td>\n",
       "      <td>7898</td>\n",
       "    </tr>\n",
       "    <tr>\n",
       "      <th>7</th>\n",
       "      <td>161621816.000</td>\n",
       "      <td>CAST(CPT_PRCDR_CD_2 AS VARCHAR)</td>\n",
       "      <td>88175</td>\n",
       "      <td>1041759</td>\n",
       "      <td>5994</td>\n",
       "    </tr>\n",
       "    <tr>\n",
       "      <th>9</th>\n",
       "      <td>160051590.000</td>\n",
       "      <td>CAST(CPT_PRCDR_CD_2 AS VARCHAR)</td>\n",
       "      <td>86922</td>\n",
       "      <td>33165</td>\n",
       "      <td>5750</td>\n",
       "    </tr>\n",
       "    <tr>\n",
       "      <th>10</th>\n",
       "      <td>160273695.000</td>\n",
       "      <td>CAST(CPT_PRCDR_CD_2 AS VARCHAR)</td>\n",
       "      <td>80061</td>\n",
       "      <td>175879</td>\n",
       "      <td>4768</td>\n",
       "    </tr>\n",
       "    <tr>\n",
       "      <th>...</th>\n",
       "      <td>...</td>\n",
       "      <td>...</td>\n",
       "      <td>...</td>\n",
       "      <td>...</td>\n",
       "      <td>...</td>\n",
       "    </tr>\n",
       "    <tr>\n",
       "      <th>253061808</th>\n",
       "      <td>163146094.000</td>\n",
       "      <td>CAST(CPT_PRCDR_CD_34 AS VARCHAR)</td>\n",
       "      <td>77470</td>\n",
       "      <td>2021893</td>\n",
       "      <td>4632</td>\n",
       "    </tr>\n",
       "    <tr>\n",
       "      <th>253061920</th>\n",
       "      <td>165271883.000</td>\n",
       "      <td>CAST(CPT_PRCDR_CD_34 AS VARCHAR)</td>\n",
       "      <td>82746</td>\n",
       "      <td>3388522</td>\n",
       "      <td>5178</td>\n",
       "    </tr>\n",
       "    <tr>\n",
       "      <th>253063593</th>\n",
       "      <td>161422834.000</td>\n",
       "      <td>CAST(CPT_PRCDR_CD_34 AS VARCHAR)</td>\n",
       "      <td>90715</td>\n",
       "      <td>913998</td>\n",
       "      <td>6186</td>\n",
       "    </tr>\n",
       "    <tr>\n",
       "      <th>253065173</th>\n",
       "      <td>160570639.000</td>\n",
       "      <td>CAST(CPT_PRCDR_CD_34 AS VARCHAR)</td>\n",
       "      <td>71010</td>\n",
       "      <td>366350</td>\n",
       "      <td>4207</td>\n",
       "    </tr>\n",
       "    <tr>\n",
       "      <th>253066072</th>\n",
       "      <td>166399722.000</td>\n",
       "      <td>CAST(CPT_PRCDR_CD_34 AS VARCHAR)</td>\n",
       "      <td>86665</td>\n",
       "      <td>4113858</td>\n",
       "      <td>5651</td>\n",
       "    </tr>\n",
       "  </tbody>\n",
       "</table>\n",
       "<p>20251733 rows × 5 columns</p>\n",
       "</div>"
      ],
      "text/plain": [
       "            CLM_CNTL_NUM                        CPT_Column CPT_Code  claim_id  \\\n",
       "2          166984365.000   CAST(CPT_PRCDR_CD_2 AS VARCHAR)    80053   4489445   \n",
       "6          166224246.000   CAST(CPT_PRCDR_CD_2 AS VARCHAR)    G0202   4001174   \n",
       "7          161621816.000   CAST(CPT_PRCDR_CD_2 AS VARCHAR)    88175   1041759   \n",
       "9          160051590.000   CAST(CPT_PRCDR_CD_2 AS VARCHAR)    86922     33165   \n",
       "10         160273695.000   CAST(CPT_PRCDR_CD_2 AS VARCHAR)    80061    175879   \n",
       "...                  ...                               ...      ...       ...   \n",
       "253061808  163146094.000  CAST(CPT_PRCDR_CD_34 AS VARCHAR)    77470   2021893   \n",
       "253061920  165271883.000  CAST(CPT_PRCDR_CD_34 AS VARCHAR)    82746   3388522   \n",
       "253063593  161422834.000  CAST(CPT_PRCDR_CD_34 AS VARCHAR)    90715    913998   \n",
       "253065173  160570639.000  CAST(CPT_PRCDR_CD_34 AS VARCHAR)    71010    366350   \n",
       "253066072  166399722.000  CAST(CPT_PRCDR_CD_34 AS VARCHAR)    86665   4113858   \n",
       "\n",
       "           cpt_id  \n",
       "2            4765  \n",
       "6            7898  \n",
       "7            5994  \n",
       "9            5750  \n",
       "10           4768  \n",
       "...           ...  \n",
       "253061808    4632  \n",
       "253061920    5178  \n",
       "253063593    6186  \n",
       "253065173    4207  \n",
       "253066072    5651  \n",
       "\n",
       "[20251733 rows x 5 columns]"
      ]
     },
     "execution_count": 57,
     "metadata": {},
     "output_type": "execute_result"
    }
   ],
   "source": [
    "melted_df"
   ]
  },
  {
   "cell_type": "code",
   "execution_count": 58,
   "metadata": {},
   "outputs": [
    {
     "name": "stdout",
     "output_type": "stream",
     "text": [
      "Sparse CSR matrix shape: (5083353, 9536)\n",
      "Number of non-zero elements: 18516331\n"
     ]
    }
   ],
   "source": [
    "\n",
    "# Create the sparse matrix\n",
    "row = melted_df['claim_id']\n",
    "col = melted_df['cpt_id']\n",
    "data = np.ones(len(melted_df))\n",
    "\n",
    "mat = csr_matrix((data, (row, col)), shape=(row.max() + 1, col.max() + 1))\n",
    "\n",
    "print(f\"Sparse CSR matrix shape: {mat.shape}\")\n",
    "print(f\"Number of non-zero elements: {mat.nnz}\")\n"
   ]
  },
  {
   "cell_type": "code",
   "execution_count": 59,
   "metadata": {},
   "outputs": [],
   "source": [
    "\n",
    "save_npz('/Users/me/data/ahrq.gov/claim_matrix.npz', mat)"
   ]
  },
  {
   "cell_type": "code",
   "execution_count": 61,
   "metadata": {},
   "outputs": [
    {
     "name": "stdout",
     "output_type": "stream",
     "text": [
      "[2199 5158 5520 5550]\n",
      "CPT codes for the first claim: ['36415' '85610' '86140' '82652']\n"
     ]
    }
   ],
   "source": [
    "\n",
    "# Example: Get the CPT codes for the first claim\n",
    "first_claim_cpt_indices = mat.getrow(0).nonzero()[1]\n",
    "first_claim_cpt_codes = melted_df[melted_df['cpt_id'].isin(first_claim_cpt_indices)]['CPT_Code'].unique()\n",
    "print(first_claim_cpt_indices)\n",
    "print(f\"CPT codes for the first claim: {first_claim_cpt_codes}\")\n"
   ]
  },
  {
   "cell_type": "code",
   "execution_count": 64,
   "metadata": {},
   "outputs": [],
   "source": [
    "import json\n",
    "\n",
    "index_to_cpt_code = dict(enumerate(melted_df['CPT_Code'].unique()))\n",
    "json.dump(index_to_cpt_code, open('/Users/me/data/ahrq.gov/index_to_cpt_code.json', 'w'))"
   ]
  },
  {
   "cell_type": "code",
   "execution_count": 41,
   "metadata": {},
   "outputs": [],
   "source": [
    "import json\n",
    "with open('/Users/me/data/ahrq.gov/cpt_code_to_index_mapping.json', 'w') as f:\n",
    "    json.dump(cpt_code_to_index, f)\n",
    "    \n",
    "index_to_cpt_code = {v: k for k, v in cpt_code_to_index.items()}\n",
    "\n",
    "with open('/Users/me/data/ahrq.gov/index_to_cpt_code_mapping.json', 'w') as f:\n",
    "    json.dump(index_to_cpt_code, f)\n",
    "    \n",
    "import json\n",
    "# load the file we just saved\n",
    "with open('/Users/me/data/ahrq.gov/index_to_cpt_code_mapping.json', 'r') as f:\n",
    "    index_to_cpt_code = json.load(f)"
   ]
  },
  {
   "cell_type": "code",
   "execution_count": 51,
   "metadata": {},
   "outputs": [
    {
     "ename": "NameError",
     "evalue": "name 'melted_df' is not defined",
     "output_type": "error",
     "traceback": [
      "\u001b[0;31m---------------------------------------------------------------------------\u001b[0m",
      "\u001b[0;31mNameError\u001b[0m                                 Traceback (most recent call last)",
      "Cell \u001b[0;32mIn[51], line 2\u001b[0m\n\u001b[1;32m      1\u001b[0m \u001b[38;5;66;03m# Create a mapping of CPT codes to their column indices\u001b[39;00m\n\u001b[0;32m----> 2\u001b[0m cpt_code_to_index \u001b[38;5;241m=\u001b[39m \u001b[38;5;28mdict\u001b[39m(\u001b[38;5;28mzip\u001b[39m(\u001b[43mmelted_df\u001b[49m[\u001b[38;5;124m'\u001b[39m\u001b[38;5;124mCPT_Code\u001b[39m\u001b[38;5;124m'\u001b[39m], melted_df[\u001b[38;5;124m'\u001b[39m\u001b[38;5;124mcpt_id\u001b[39m\u001b[38;5;124m'\u001b[39m]))\n\u001b[1;32m      4\u001b[0m \u001b[38;5;66;03m# Save the mapping for future reference\u001b[39;00m\n\u001b[1;32m      5\u001b[0m \u001b[38;5;28;01mimport\u001b[39;00m \u001b[38;5;21;01mjson\u001b[39;00m\n",
      "\u001b[0;31mNameError\u001b[0m: name 'melted_df' is not defined"
     ]
    }
   ],
   "source": [
    "\n",
    "# Create a mapping of CPT codes to their column indices\n",
    "cpt_code_to_index = dict(zip(melted_df['CPT_Code'], melted_df['cpt_id']))\n",
    "\n",
    "# Save the mapping for future reference\n",
    "import json\n",
    "with open('/Users/me/data/ahrq.gov/cpt_code_to_index_mapping.json', 'w') as f:\n",
    "    json.dump(cpt_code_to_index, f)\n",
    "\n",
    "print(\"CPT code to index mapping saved to 'cpt_code_to_index_mapping.json'\")"
   ]
  },
  {
   "cell_type": "code",
   "execution_count": 37,
   "metadata": {},
   "outputs": [
    {
     "data": {
      "text/plain": [
       "array([4489445, 4001174, 1041759, ..., 4783842, 4145288, 3296749],\n",
       "      dtype=int32)"
      ]
     },
     "execution_count": 37,
     "metadata": {},
     "output_type": "execute_result"
    }
   ],
   "source": [
    "melted_df['claim_id'].unique()"
   ]
  },
  {
   "cell_type": "code",
   "execution_count": 38,
   "metadata": {},
   "outputs": [
    {
     "data": {
      "text/plain": [
       "<Compressed Sparse Row sparse matrix of dtype 'float64'\n",
       "\twith 18516331 stored elements and shape (5083353, 9536)>"
      ]
     },
     "execution_count": 38,
     "metadata": {},
     "output_type": "execute_result"
    }
   ],
   "source": [
    "mat"
   ]
  },
  {
   "cell_type": "code",
   "execution_count": 1,
   "metadata": {},
   "outputs": [],
   "source": [
    "from scipy.sparse import load_npz"
   ]
  },
  {
   "cell_type": "code",
   "execution_count": 2,
   "metadata": {},
   "outputs": [],
   "source": [
    "mat = load_npz('/Users/me/data/ahrq.gov/claim_matrix.npz')"
   ]
  },
  {
   "cell_type": "code",
   "execution_count": 3,
   "metadata": {},
   "outputs": [],
   "source": [
    "import json\n",
    "with open('/Users/me/data/ahrq.gov/cpt_code_to_index_mapping.json', 'r') as f:\n",
    "    cpt_code_to_index = json.load(f)"
   ]
  },
  {
   "cell_type": "code",
   "execution_count": 4,
   "metadata": {},
   "outputs": [
    {
     "data": {
      "text/plain": [
       "<Compressed Sparse Row sparse matrix of dtype 'float64'\n",
       "\twith 18516331 stored elements and shape (5083353, 9536)>"
      ]
     },
     "execution_count": 4,
     "metadata": {},
     "output_type": "execute_result"
    }
   ],
   "source": [
    "mat"
   ]
  },
  {
   "cell_type": "code",
   "execution_count": 45,
   "metadata": {},
   "outputs": [
    {
     "data": {
      "text/plain": [
       "9536"
      ]
     },
     "execution_count": 45,
     "metadata": {},
     "output_type": "execute_result"
    }
   ],
   "source": [
    "len(cpt_code_to_index)"
   ]
  },
  {
   "cell_type": "code",
   "execution_count": 29,
   "metadata": {},
   "outputs": [],
   "source": [
    "import pandas as pd\n",
    "\n",
    "cpt_dict = pd.read_excel('/Users/me/data/ahrq.gov/PPRRVU16_V0804.xlsx', usecols=[0, 2], header=None, dtype=str).set_index(0)[2].to_dict()"
   ]
  },
  {
   "cell_type": "code",
   "execution_count": 30,
   "metadata": {},
   "outputs": [
    {
     "data": {
      "text/plain": [
       "14321"
      ]
     },
     "execution_count": 30,
     "metadata": {},
     "output_type": "execute_result"
    }
   ],
   "source": [
    "len(cpt_dict)"
   ]
  },
  {
   "cell_type": "code",
   "execution_count": 32,
   "metadata": {},
   "outputs": [
    {
     "name": "stdout",
     "output_type": "stream",
     "text": [
      "859\n"
     ]
    }
   ],
   "source": [
    "n = 0\n",
    "for key in cpt_code_to_index:\n",
    "    if key not in cpt_dict:\n",
    "        n += 1\n",
    "print(n)"
   ]
  },
  {
   "cell_type": "code",
   "execution_count": 43,
   "metadata": {},
   "outputs": [
    {
     "data": {
      "text/plain": [
       "(array([0, 0, 0, 0], dtype=int32),\n",
       " array([2199, 5158, 5520, 5550], dtype=int32))"
      ]
     },
     "execution_count": 43,
     "metadata": {},
     "output_type": "execute_result"
    }
   ],
   "source": [
    "mat[0].nonzero()"
   ]
  },
  {
   "cell_type": "code",
   "execution_count": 50,
   "metadata": {},
   "outputs": [
    {
     "data": {
      "text/plain": [
       "array([2199, 5158, 5520, 5550], dtype=int32)"
      ]
     },
     "execution_count": 50,
     "metadata": {},
     "output_type": "execute_result"
    }
   ],
   "source": [
    "mat.getrow(0).nonzero()[1]"
   ]
  },
  {
   "cell_type": "code",
   "execution_count": 68,
   "metadata": {},
   "outputs": [
    {
     "data": {
      "text/plain": [
       "('78071', '67332', '67110', '81260')"
      ]
     },
     "execution_count": 68,
     "metadata": {},
     "output_type": "execute_result"
    }
   ],
   "source": [
    "index_to_cpt_code[2199], index_to_cpt_code[5158], index_to_cpt_code[5520], index_to_cpt_code[5550]"
   ]
  },
  {
   "cell_type": "code",
   "execution_count": null,
   "metadata": {},
   "outputs": [],
   "source": []
  }
 ],
 "metadata": {
  "kernelspec": {
   "display_name": ".venv",
   "language": "python",
   "name": "python3"
  },
  "language_info": {
   "codemirror_mode": {
    "name": "ipython",
    "version": 3
   },
   "file_extension": ".py",
   "mimetype": "text/x-python",
   "name": "python",
   "nbconvert_exporter": "python",
   "pygments_lexer": "ipython3",
   "version": "3.10.14"
  }
 },
 "nbformat": 4,
 "nbformat_minor": 2
}
