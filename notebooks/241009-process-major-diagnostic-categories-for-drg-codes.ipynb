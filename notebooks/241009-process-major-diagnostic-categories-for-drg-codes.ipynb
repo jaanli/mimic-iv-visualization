{
 "cells": [
  {
   "cell_type": "markdown",
   "metadata": {},
   "source": [
    "# Process DRG codes\n",
    "\n",
    "Goal is to save the major diagnostic categories for all DRG codes here for further analysis:\n",
    "\n",
    "https://www.cms.gov/icd10m/FY2024-nprmversion41.0-fullcode-cms/fullcode_cms/P0380.html\n",
    "\n",
    "https://www.cms.gov/icd10m/FY2024-nprmversion41.0-fullcode-cms/fullcode_cms/P0001.html"
   ]
  },
  {
   "cell_type": "code",
   "execution_count": 5,
   "metadata": {},
   "outputs": [
    {
     "name": "stdout",
     "output_type": "stream",
     "text": [
      "Total MS-DRG to MDC mappings: 741\n",
      "Data saved to ./data/ms_drg_to_mdc.json\n"
     ]
    }
   ],
   "source": [
    "import csv\n",
    "import json\n",
    "\n",
    "csv_file_path = './data/major_diagnostic_categories.csv'\n",
    "json_file_path = './data/ms_drg_to_mdc.json'\n",
    "\n",
    "ms_drg_to_mdc = []\n",
    "\n",
    "with open(csv_file_path, 'r') as csv_file:\n",
    "    for row in csv.reader(csv_file):\n",
    "        if len(row) >= 2 and row[0].isdigit():\n",
    "            ms_drg = int(row[0])\n",
    "            mdc = row[1].strip()\n",
    "            if mdc.startswith('MDC '):\n",
    "                mdc_num = int(mdc[4:])\n",
    "            elif mdc.isdigit():\n",
    "                mdc_num = int(mdc)\n",
    "            else:\n",
    "                continue\n",
    "            ms_drg_to_mdc.append({\"ms_drg\": ms_drg, \"mdc\": mdc_num})\n",
    "\n",
    "with open(json_file_path, 'w') as json_file:\n",
    "    json.dump(ms_drg_to_mdc, json_file, indent=2)\n",
    "\n",
    "print(f\"Total MS-DRG to MDC mappings: {len(ms_drg_to_mdc)}\")\n",
    "print(f\"Data saved to {json_file_path}\")"
   ]
  },
  {
   "cell_type": "code",
   "execution_count": 9,
   "metadata": {},
   "outputs": [
    {
     "name": "stdout",
     "output_type": "stream",
     "text": [
      "MDC dictionary saved to ./data/mdc_dictionary.json\n",
      "Total MDCs: 25\n"
     ]
    }
   ],
   "source": [
    "import json\n",
    "\n",
    "mdc_input_string = \"\"\"\n",
    "MDC 01 Nervous system\n",
    "MDC 02 Eye\n",
    "MDC 03 Ear, nose, mouth; throat\n",
    "MDC 04 Respiratory system\n",
    "MDC 05 Circulatory system\n",
    "MDC 06 Digestive system\n",
    "MDC 07 Hepatobiliary system; pancreas\n",
    "MDC 08 Musculoskeletal system; connective tissue\n",
    "MDC 09 Skin, subcutaneous tissue and breast\n",
    "MDC 10 Endocrine, nutritional; metabolic diseases, disorders\n",
    "MDC 11 Kidney and urinary tract\n",
    "MDC 12 Male reproductive system\n",
    "MDC 13 Female reproductive system\n",
    "MDC 14 Pregnancy, childbirth; puerperium\n",
    "MDC 15 Newborns and other neonates\n",
    "MDC 16 Bblood, blood forming organs; immunologic disorders\n",
    "MDC 17 Myeloproliferative diseases and disorders\n",
    "MDC 18 Infectious and parasitic diseases\n",
    "MDC 19 Mental diseases and disorders\n",
    "MDC 20 Alcohol or drug use or induced organic mental disorders\n",
    "MDC 21 Injuries, poisonings and toxic effects of drugs\n",
    "MDC 22 Burns\n",
    "MDC 23 Factors influencing health status and other contacts with health services\n",
    "MDC 24 Multiple significant trauma\n",
    "MDC 25 Human immunodeficiency virus infections\n",
    "\"\"\"\n",
    "\n",
    "# mdc_input_string = \"\"\"\n",
    "# MDC 01 Diseases and disorders of the nervous system\n",
    "# MDC 02 Diseases and disorders of the eye\n",
    "# MDC 03 Diseases and disorders of the ear, nose, mouth and throat\n",
    "# MDC 04 Diseases and disorders of the respiratory system\n",
    "# MDC 05 Diseases and disorders of the circulatory system\n",
    "# MDC 06 Diseases and disorders of the digestive system\n",
    "# MDC 07 Diseases and disorders of the hepatobiliary system and pancreas\n",
    "# MDC 08 Diseases and disorders of the musculoskeletal system and connective tissue\n",
    "# MDC 09 Diseases and disorders of the skin, subcutaneous tissue and breast\n",
    "# MDC 10 Endocrine, nutritional and metabolic diseases and disorders\n",
    "# MDC 11 Diseases and disorders of the kidney and urinary tract\n",
    "# MDC 12 Diseases and disorders of the male reproductive system\n",
    "# MDC 13 Diseases and disorders of the female reproductive system\n",
    "# MDC 14 Pregnancy, childbirth and the puerperium\n",
    "# MDC 15 Newborns and other neonates with conditions originating in perinatal period\n",
    "# MDC 16 Diseases and disorders of blood, blood forming organs and immunologic disorders\n",
    "# MDC 17 Myeloproliferative diseases and disorders, poorly differentiated neoplasms\n",
    "# MDC 18 Infectious and parasitic diseases, systemic or unspecified sites\n",
    "# MDC 19 Mental diseases and disorders\n",
    "# MDC 20 Alcohol or drug use or induced organic mental disorders\n",
    "# MDC 21 Injuries, poisonings and toxic effects of drugs\n",
    "# MDC 22 Burns\n",
    "# MDC 23 Factors influencing health status and other contacts with health services\n",
    "# MDC 24 Multiple significant trauma\n",
    "# MDC 25 Human immunodeficiency virus infections\n",
    "# \"\"\"\n",
    "\n",
    "# Create a list of dictionaries from the MDC list\n",
    "mdc_list = []\n",
    "for line in mdc_input_string.strip().split('\\n'):\n",
    "    mdc_number = int(line[4:6])  # Extract the MDC number\n",
    "    mdc_description = line[7:]  # Extract the MDC description\n",
    "    mdc_list.append({\n",
    "        \"mdc_number\": mdc_number,\n",
    "        \"mdc_description\": mdc_description\n",
    "    })\n",
    "\n",
    "# Save the list to a JSON file\n",
    "json_file_path = './data/mdc_dictionary.json'\n",
    "with open(json_file_path, 'w') as json_file:\n",
    "    json.dump(mdc_list, json_file, indent=2)\n",
    "\n",
    "print(f\"MDC dictionary saved to {json_file_path}\")\n",
    "print(f\"Total MDCs: {len(mdc_list)}\")"
   ]
  },
  {
   "cell_type": "code",
   "execution_count": null,
   "metadata": {},
   "outputs": [],
   "source": []
  }
 ],
 "metadata": {
  "kernelspec": {
   "display_name": ".venv",
   "language": "python",
   "name": "python3"
  },
  "language_info": {
   "codemirror_mode": {
    "name": "ipython",
    "version": 3
   },
   "file_extension": ".py",
   "mimetype": "text/x-python",
   "name": "python",
   "nbconvert_exporter": "python",
   "pygments_lexer": "ipython3",
   "version": "3.10.14"
  }
 },
 "nbformat": 4,
 "nbformat_minor": 2
}
